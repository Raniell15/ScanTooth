{
 "cells": [
  {
   "cell_type": "code",
   "execution_count": 1,
   "id": "120c18c0-f4d5-4b93-8722-b160fd30b437",
   "metadata": {},
   "outputs": [
    {
     "name": "stdout",
     "output_type": "stream",
     "text": [
      "Requirement already satisfied: opencv-python in c:\\dentalcariesod\\dentalcariesod\\lib\\site-packages (4.10.0.84)\n",
      "Requirement already satisfied: numpy>=1.21.2 in c:\\dentalcariesod\\dentalcariesod\\lib\\site-packages (from opencv-python) (2.1.3)\n"
     ]
    }
   ],
   "source": [
    "!pip install opencv-python"
   ]
  },
  {
   "cell_type": "code",
   "execution_count": 3,
   "id": "589456ce-b96e-4884-8b54-03f875f512e1",
   "metadata": {},
   "outputs": [],
   "source": [
    "import cv2\n",
    "import uuid\n",
    "import os\n",
    "import time"
   ]
  },
  {
   "cell_type": "code",
   "execution_count": 5,
   "id": "995ec2ea-ee8c-4281-abe8-018498a2044b",
   "metadata": {},
   "outputs": [],
   "source": [
    "labels = [\"UL3M_healthy\", \"UL2M_healthy\", \"UL1M_healthy\", \"UL2BC_healthy\", \"UL1BC_healthy\", \"ULC_healthy\", \"ULLI_healthy\", \"ULCI_healthy\", \"UR3M_healthy\", \"UR2M_healthy\", \"UR1M_healthy\", \"UR2BC_healthy\", \"UR1BC_healthy\", \"URC_healthy\", \"URLI_healthy\", \"URCI_healthy\", \"LL3M_healthy\", \"LL2M_healthy\", \"LL1M_healthy\", \"LL2BC_healthy\", \"LL1BC_healthy\", \"LLC_healthy\", \"LLLI_healthy\", \"LLCI_healthy\", \"LR3M_healthy\", \"LR2M_healthy\", \"LR1M_healthy\", \"LR2BC_healthy\", \"LR1BC_healthy\", \"LRC_healthy\", \"LRLI_healthy\", \"LRCI_healthy\", \"UL3M_sdecay\", \"UL2M_sdecay\", \"UL1M_sdecay\", \"UL2BC_sdecay\", \"UL1BC_sdecay\", \"ULC_sdecay\", \"ULLI_sdecay\", \"ULCI_sdecay\", \"UR3M_sdecay\", \"UR2M_sdecay\", \"UR1M_sdecay\", \"UR2BC_sdecay\", \"UR1BC_sdecay\", \"URC_sdecay\", \"URLI_sdecay\", \"URCI_sdecay\", \"LL3M_sdecay\", \"LL2M_sdecay\", \"LL1M_sdecay\", \"LL2BC_sdecay\", \"LL1BC_sdecay\", \"LLC_sdecay\", \"LLLI_sdecay\", \"LLCI_sdecay\", \"LR3M_sdecay\", \"LR2M_sdecay\", \"LR1M_sdecay\", \"LR2BC_sdecay\", \"LR1BC_sdecay\", \"LRC_sdecay\", \"LRLI_sdecay\", \"LRCI_sdecay\", \"UL3M_mdecay\", \"UL2M_mdecay\", \"UL1M_mdecay\", \"UL2BC_mdecay\", \"UL1BC_mdecay\", \"ULC_mdecay\", \"ULLI_mdecay\", \"ULCI_mdecay\", \"UR3M_mdecay\", \"UR2M_mdecay\", \"UR1M_mdecay\", \"UR2BC_mdecay\", \"UR1BC_mdecay\", \"URC_mdecay\", \"URLI_mdecay\", \"URCI_mdecay\", \"LL3M_mdecay\", \"LL2M_mdecay\", \"LL1M_mdecay\", \"LL2BC_mdecay\", \"LL1BC_mdecay\", \"LLC_mdecay\", \"LLLI_mdecay\", \"LLCI_mdecay\", \"LR3M_mdecay\", \"LR2M_mdecay\", \"LR1M_mdecay\", \"LR2BC_mdecay\", \"LR1BC_mdecay\", \"LRC_mdecay\", \"LRLI_mdecay\", \"LRCI_mdecay\"]"
   ]
  },
  {
   "cell_type": "code",
   "execution_count": 9,
   "id": "7921d845-f88d-47c9-a7d3-ac2ff74eab45",
   "metadata": {},
   "outputs": [],
   "source": [
    "number_imgs = 5"
   ]
  },
  {
   "cell_type": "code",
   "execution_count": 11,
   "id": "1f06bafc-ac98-4484-b0b5-ce55ce96a102",
   "metadata": {},
   "outputs": [],
   "source": [
    "IMAGES_PATH = os.path.join('Tensorflow','workspace', 'images', 'collectedImages')"
   ]
  },
  {
   "cell_type": "code",
   "execution_count": 18,
   "id": "b33fe083-0d45-497e-ba53-5363e45198f7",
   "metadata": {},
   "outputs": [],
   "source": [
    "if not os.path.exists(IMAGES_PATH):\n",
    "    if os.name == 'posix':\n",
    "        !mkdir -p {IMAGES_PATH}\n",
    "    if os.name == 'nt':\n",
    "        !mkdir {IMAGES_PATH}\n",
    "for label in labels:\n",
    "    path = os.path.join(IMAGES_PATH, label)\n",
    "    if not os.path.exists(path):\n",
    "        !mkdir {path}"
   ]
  },
  {
   "cell_type": "code",
   "execution_count": null,
   "id": "a0711608-a29e-4188-8f7d-77f9ba131e3b",
   "metadata": {},
   "outputs": [],
   "source": []
  }
 ],
 "metadata": {
  "kernelspec": {
   "display_name": "dentalcariesod",
   "language": "python",
   "name": "dentalcariesod"
  },
  "language_info": {
   "codemirror_mode": {
    "name": "ipython",
    "version": 3
   },
   "file_extension": ".py",
   "mimetype": "text/x-python",
   "name": "python",
   "nbconvert_exporter": "python",
   "pygments_lexer": "ipython3",
   "version": "3.13.0"
  }
 },
 "nbformat": 4,
 "nbformat_minor": 5
}
