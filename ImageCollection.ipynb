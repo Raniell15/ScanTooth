{
 "cells": [
  {
   "cell_type": "code",
   "execution_count": 2,
   "id": "120c18c0-f4d5-4b93-8722-b160fd30b437",
   "metadata": {},
   "outputs": [
    {
     "name": "stdout",
     "output_type": "stream",
     "text": [
      "Requirement already satisfied: opencv-python in c:\\users\\ranie\\appdata\\local\\programs\\python\\python313\\lib\\site-packages (4.10.0.84)\n",
      "Requirement already satisfied: numpy>=1.21.2 in c:\\users\\ranie\\appdata\\local\\programs\\python\\python313\\lib\\site-packages (from opencv-python) (2.1.3)\n"
     ]
    },
    {
     "name": "stderr",
     "output_type": "stream",
     "text": [
      "\n",
      "[notice] A new release of pip is available: 25.0 -> 25.0.1\n",
      "[notice] To update, run: python.exe -m pip install --upgrade pip\n"
     ]
    }
   ],
   "source": [
    "!pip install opencv-python"
   ]
  },
  {
   "cell_type": "code",
   "execution_count": 4,
   "id": "589456ce-b96e-4884-8b54-03f875f512e1",
   "metadata": {},
   "outputs": [],
   "source": [
    "import cv2\n",
    "import uuid\n",
    "import os\n",
    "import time"
   ]
  },
  {
   "cell_type": "code",
   "execution_count": 6,
   "id": "995ec2ea-ee8c-4281-abe8-018498a2044b",
   "metadata": {},
   "outputs": [],
   "source": [
    "labels = [\"UL3M_healthy\", \"UL2M_healthy\", \"UL1M_healthy\", \"UL2BC_healthy\", \"UL1BC_healthy\", \"ULC_healthy\", \"ULLI_healthy\", \"ULCI_healthy\", \"UR3M_healthy\", \"UR2M_healthy\", \"UR1M_healthy\", \"UR2BC_healthy\", \"UR1BC_healthy\", \"URC_healthy\", \"URLI_healthy\", \"URCI_healthy\", \"LL3M_healthy\", \"LL2M_healthy\", \"LL1M_healthy\", \"LL2BC_healthy\", \"LL1BC_healthy\", \"LLC_healthy\", \"LLLI_healthy\", \"LLCI_healthy\", \"LR3M_healthy\", \"LR2M_healthy\", \"LR1M_healthy\", \"LR2BC_healthy\", \"LR1BC_healthy\", \"LRC_healthy\", \"LRLI_healthy\", \"LRCI_healthy\", \"UL3M_sdecay\", \"UL2M_sdecay\", \"UL1M_sdecay\", \"UL2BC_sdecay\", \"UL1BC_sdecay\", \"ULC_sdecay\", \"ULLI_sdecay\", \"ULCI_sdecay\", \"UR3M_sdecay\", \"UR2M_sdecay\", \"UR1M_sdecay\", \"UR2BC_sdecay\", \"UR1BC_sdecay\", \"URC_sdecay\", \"URLI_sdecay\", \"URCI_sdecay\", \"LL3M_sdecay\", \"LL2M_sdecay\", \"LL1M_sdecay\", \"LL2BC_sdecay\", \"LL1BC_sdecay\", \"LLC_sdecay\", \"LLLI_sdecay\", \"LLCI_sdecay\", \"LR3M_sdecay\", \"LR2M_sdecay\", \"LR1M_sdecay\", \"LR2BC_sdecay\", \"LR1BC_sdecay\", \"LRC_sdecay\", \"LRLI_sdecay\", \"LRCI_sdecay\", \"UL3M_mdecay\", \"UL2M_mdecay\", \"UL1M_mdecay\", \"UL2BC_mdecay\", \"UL1BC_mdecay\", \"ULC_mdecay\", \"ULLI_mdecay\", \"ULCI_mdecay\", \"UR3M_mdecay\", \"UR2M_mdecay\", \"UR1M_mdecay\", \"UR2BC_mdecay\", \"UR1BC_mdecay\", \"URC_mdecay\", \"URLI_mdecay\", \"URCI_mdecay\", \"LL3M_mdecay\", \"LL2M_mdecay\", \"LL1M_mdecay\", \"LL2BC_mdecay\", \"LL1BC_mdecay\", \"LLC_mdecay\", \"LLLI_mdecay\", \"LLCI_mdecay\", \"LR3M_mdecay\", \"LR2M_mdecay\", \"LR1M_mdecay\", \"LR2BC_mdecay\", \"LR1BC_mdecay\", \"LRC_mdecay\", \"LRLI_mdecay\", \"LRCI_mdecay\"]"
   ]
  },
  {
   "cell_type": "code",
   "execution_count": 8,
   "id": "7921d845-f88d-47c9-a7d3-ac2ff74eab45",
   "metadata": {},
   "outputs": [],
   "source": [
    "number_imgs = 5"
   ]
  },
  {
   "cell_type": "code",
   "execution_count": 10,
   "id": "1f06bafc-ac98-4484-b0b5-ce55ce96a102",
   "metadata": {},
   "outputs": [],
   "source": [
    "IMAGES_PATH = os.path.join('Tensorflow','workspace', 'images', 'collectedImages')"
   ]
  },
  {
   "cell_type": "code",
   "execution_count": 12,
   "id": "b33fe083-0d45-497e-ba53-5363e45198f7",
   "metadata": {},
   "outputs": [],
   "source": [
    "if not os.path.exists(IMAGES_PATH):\n",
    "    if os.name == 'posix':\n",
    "        !mkdir -p {IMAGES_PATH}\n",
    "    if os.name == 'nt':\n",
    "        !mkdir {IMAGES_PATH}\n",
    "for label in labels:\n",
    "    path = os.path.join(IMAGES_PATH, label)\n",
    "    if not os.path.exists(path):\n",
    "        !mkdir {path}"
   ]
  },
  {
   "cell_type": "code",
   "execution_count": 20,
   "id": "a0711608-a29e-4188-8f7d-77f9ba131e3b",
   "metadata": {},
   "outputs": [
    {
     "name": "stdout",
     "output_type": "stream",
     "text": [
      "Collecting image for UL3M_healthy\n",
      "Collecting image 0\n",
      "Collecting image 1\n",
      "Collecting image 2\n",
      "Collecting image 3\n",
      "Collecting image 4\n",
      "Collecting image for UL2M_healthy\n",
      "Collecting image 0\n",
      "Collecting image 1\n",
      "Collecting image 2\n",
      "Collecting image 3\n",
      "Collecting image 4\n",
      "Collecting image for UL1M_healthy\n",
      "Collecting image 0\n",
      "Collecting image 1\n",
      "Collecting image 2\n",
      "Collecting image 3\n",
      "Collecting image 4\n",
      "Collecting image for UL2BC_healthy\n",
      "Collecting image 0\n",
      "Collecting image for UL1BC_healthy\n",
      "Collecting image 0\n",
      "Collecting image 1\n",
      "Collecting image for ULC_healthy\n",
      "Collecting image 0\n",
      "Collecting image 1\n",
      "Collecting image for ULLI_healthy\n",
      "Collecting image 0\n",
      "Collecting image 1\n",
      "Collecting image 2\n",
      "Collecting image for ULCI_healthy\n",
      "Collecting image 0\n",
      "Collecting image for UR3M_healthy\n",
      "Collecting image 0\n",
      "Collecting image 1\n",
      "Collecting image for UR2M_healthy\n",
      "Collecting image 0\n",
      "Collecting image for UR1M_healthy\n",
      "Collecting image 0\n",
      "Collecting image 1\n",
      "Collecting image 2\n"
     ]
    },
    {
     "ename": "KeyboardInterrupt",
     "evalue": "",
     "output_type": "error",
     "traceback": [
      "\u001b[1;31m---------------------------------------------------------------------------\u001b[0m",
      "\u001b[1;31mKeyboardInterrupt\u001b[0m                         Traceback (most recent call last)",
      "Cell \u001b[1;32mIn[20], line 11\u001b[0m\n\u001b[0;32m      9\u001b[0m cv2\u001b[38;5;241m.\u001b[39mimwrite(imgname, frame)\n\u001b[0;32m     10\u001b[0m cv2\u001b[38;5;241m.\u001b[39mimshow(\u001b[38;5;124m'\u001b[39m\u001b[38;5;124mframe\u001b[39m\u001b[38;5;124m'\u001b[39m, frame)\n\u001b[1;32m---> 11\u001b[0m \u001b[43mtime\u001b[49m\u001b[38;5;241;43m.\u001b[39;49m\u001b[43msleep\u001b[49m\u001b[43m(\u001b[49m\u001b[38;5;241;43m2\u001b[39;49m\u001b[43m)\u001b[49m\n\u001b[0;32m     12\u001b[0m \u001b[38;5;28;01mif\u001b[39;00m cv2\u001b[38;5;241m.\u001b[39mwaitKey(\u001b[38;5;241m1\u001b[39m) \u001b[38;5;241m&\u001b[39m \u001b[38;5;241m0xFF\u001b[39m \u001b[38;5;241m==\u001b[39m \u001b[38;5;28mord\u001b[39m(\u001b[38;5;124m'\u001b[39m\u001b[38;5;124mq\u001b[39m\u001b[38;5;124m'\u001b[39m):\n\u001b[0;32m     13\u001b[0m     \u001b[38;5;28;01mbreak\u001b[39;00m\n",
      "\u001b[1;31mKeyboardInterrupt\u001b[0m: "
     ]
    }
   ],
   "source": [
    "for label in labels:\n",
    "    cap = cv2.VideoCapture(0)\n",
    "    print(\"Collecting image for {}\".format(label))\n",
    "    time.sleep(5)\n",
    "    for imgnum in range(number_imgs):\n",
    "        print(\"Collecting image {}\".format(imgnum))\n",
    "        ret, frame = cap.read()\n",
    "        imgname = os.path.join(IMAGES_PATH,label, label+'.'+'{}.jpg'.format(str(uuid.uuid1())))\n",
    "        cv2.imwrite(imgname, frame)\n",
    "        cv2.imshow('frame', frame)\n",
    "        time.sleep(2)\n",
    "        if cv2.waitKey(1) & 0xFF == ord('q'):\n",
    "            break\n",
    "cap.release()\n",
    "cap.destroyAllWindows()\n"
   ]
  },
  {
   "cell_type": "code",
   "execution_count": 14,
   "id": "c2d6b859-acd0-4d84-9570-70b41ecc6241",
   "metadata": {},
   "outputs": [
    {
     "name": "stdout",
     "output_type": "stream",
     "text": [
      "Requirement already satisfied: pyqt5 in c:\\users\\ranie\\appdata\\local\\programs\\python\\python313\\lib\\site-packages (5.15.11)\n",
      "Requirement already satisfied: lxml in c:\\users\\ranie\\appdata\\local\\programs\\python\\python313\\lib\\site-packages (5.3.0)\n",
      "Collecting lxml\n",
      "  Downloading lxml-5.3.1-cp313-cp313-win_amd64.whl.metadata (3.8 kB)\n",
      "Requirement already satisfied: PyQt5-sip<13,>=12.15 in c:\\users\\ranie\\appdata\\local\\programs\\python\\python313\\lib\\site-packages (from pyqt5) (12.16.1)\n",
      "Requirement already satisfied: PyQt5-Qt5<5.16.0,>=5.15.2 in c:\\users\\ranie\\appdata\\local\\programs\\python\\python313\\lib\\site-packages (from pyqt5) (5.15.2)\n",
      "Downloading lxml-5.3.1-cp313-cp313-win_amd64.whl (3.8 MB)\n",
      "   ---------------------------------------- 0.0/3.8 MB ? eta -:--:--\n",
      "   --------------------- ------------------ 2.1/3.8 MB 11.8 MB/s eta 0:00:01\n",
      "   ----------------------------------- ---- 3.4/3.8 MB 8.1 MB/s eta 0:00:01\n",
      "   ---------------------------------------- 3.8/3.8 MB 8.1 MB/s eta 0:00:00\n",
      "Installing collected packages: lxml\n",
      "  Attempting uninstall: lxml\n",
      "    Found existing installation: lxml 5.3.0\n",
      "    Uninstalling lxml-5.3.0:\n",
      "      Successfully uninstalled lxml-5.3.0\n",
      "Successfully installed lxml-5.3.1\n"
     ]
    },
    {
     "name": "stderr",
     "output_type": "stream",
     "text": [
      "\n",
      "[notice] A new release of pip is available: 25.0 -> 25.0.1\n",
      "[notice] To update, run: python.exe -m pip install --upgrade pip\n"
     ]
    }
   ],
   "source": [
    "!pip install --upgrade pyqt5 lxml"
   ]
  },
  {
   "cell_type": "code",
   "execution_count": 16,
   "id": "cee7d547-627b-424f-9ce2-0f3b35478ea3",
   "metadata": {},
   "outputs": [],
   "source": [
    "LABELIMG_PATH = os.path.join('Tensorflow', 'labelimg')"
   ]
  },
  {
   "cell_type": "code",
   "execution_count": 18,
   "id": "64a91a37-32c3-4b01-81d3-3cb941db439a",
   "metadata": {},
   "outputs": [],
   "source": [
    "if not os.path.exists(LABELIMG_PATH):\n",
    "    !mkdir {LABELIMG_PATH}\n",
    "    !git clone https://github.com/HumanSignal/labelImg.git {LABELIMG_PATH}"
   ]
  },
  {
   "cell_type": "code",
   "execution_count": 20,
   "id": "ec0c38be-c55a-4b17-97e1-d51a040e81da",
   "metadata": {},
   "outputs": [],
   "source": [
    "if os.name == \"posix\":\n",
    "    !make qt5py3\n",
    "if os.name == \"nt\":\n",
    "    !cd {LABELIMG_PATH} && pyrcc5 -o libs/resources.py resources.qrc "
   ]
  },
  {
   "cell_type": "code",
   "execution_count": 22,
   "id": "1133e951-ed8b-4436-a399-85fb71a5321e",
   "metadata": {},
   "outputs": [],
   "source": [
    "!cd {LABELIMG_PATH} && python labelImg.py"
   ]
  },
  {
   "cell_type": "code",
   "execution_count": null,
   "id": "20e3e106-601b-43dd-aab9-a34065987f7f",
   "metadata": {},
   "outputs": [],
   "source": []
  }
 ],
 "metadata": {
  "kernelspec": {
   "display_name": "dentalcariesod",
   "language": "python",
   "name": "dentalcariesod"
  },
  "language_info": {
   "codemirror_mode": {
    "name": "ipython",
    "version": 3
   },
   "file_extension": ".py",
   "mimetype": "text/x-python",
   "name": "python",
   "nbconvert_exporter": "python",
   "pygments_lexer": "ipython3",
   "version": "3.13.0"
  }
 },
 "nbformat": 4,
 "nbformat_minor": 5
}
