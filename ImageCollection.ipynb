{
 "cells": [
  {
   "cell_type": "code",
<<<<<<< Updated upstream
<<<<<<< Updated upstream
   "execution_count": 2,
=======
   "execution_count": 11,
>>>>>>> Stashed changes
=======
   "execution_count": 3,
>>>>>>> Stashed changes
   "id": "120c18c0-f4d5-4b93-8722-b160fd30b437",
   "metadata": {},
   "outputs": [
    {
     "name": "stdout",
     "output_type": "stream",
     "text": [
<<<<<<< Updated upstream
<<<<<<< Updated upstream
<<<<<<< Updated upstream
      "Requirement already satisfied: opencv-python in c:\\users\\ranie\\appdata\\local\\programs\\python\\python313\\lib\\site-packages (4.10.0.84)\n",
      "Requirement already satisfied: numpy>=1.21.2 in c:\\users\\ranie\\appdata\\local\\programs\\python\\python313\\lib\\site-packages (from opencv-python) (2.1.3)\n"
=======
      "Requirement already satisfied: opencv-python in c:\\users\\admin\\anaconda4\\lib\\site-packages (4.11.0.86)\n",
      "Requirement already satisfied: numpy>=1.21.2 in c:\\users\\admin\\anaconda4\\lib\\site-packages (from opencv-python) (1.26.4)\n"
>>>>>>> Stashed changes
     ]
    },
    {
     "name": "stderr",
     "output_type": "stream",
     "text": [
      "\n",
      "[notice] A new release of pip is available: 25.0 -> 25.0.1\n",
      "[notice] To update, run: python.exe -m pip install --upgrade pip\n"
=======
      "Requirement already satisfied: opencv-python in c:\\users\\dan\\anaconda3\\lib\\site-packages (4.10.0.84)\n",
      "Requirement already satisfied: numpy>=1.21.2 in c:\\users\\dan\\anaconda3\\lib\\site-packages (from opencv-python) (2.1.3)\n"
>>>>>>> Stashed changes
=======
      "Requirement already satisfied: opencv-python in c:\\users\\rendelle keith\\appdata\\local\\programs\\python\\python313\\lib\\site-packages (4.11.0.86)\n",
      "Requirement already satisfied: numpy>=1.21.2 in c:\\users\\rendelle keith\\appdata\\local\\programs\\python\\python313\\lib\\site-packages (from opencv-python) (2.2.2)\n"
>>>>>>> Stashed changes
     ]
    }
   ],
   "source": [
    "!pip install opencv-python"
   ]
  },
  {
   "cell_type": "code",
<<<<<<< Updated upstream
<<<<<<< Updated upstream
   "execution_count": 3,
=======
   "execution_count": 11,
>>>>>>> Stashed changes
=======
   "execution_count": 2,
>>>>>>> Stashed changes
   "id": "589456ce-b96e-4884-8b54-03f875f512e1",
   "metadata": {},
   "outputs": [],
   "source": [
    "import cv2\n",
    "import uuid\n",
    "import os\n",
    "import time"
   ]
  },
  {
   "cell_type": "code",
<<<<<<< Updated upstream
<<<<<<< Updated upstream
<<<<<<< Updated upstream
   "execution_count": 4,
=======
   "execution_count": 12,
>>>>>>> Stashed changes
=======
   "execution_count": 2,
>>>>>>> Stashed changes
=======
   "execution_count": 3,
>>>>>>> Stashed changes
   "id": "995ec2ea-ee8c-4281-abe8-018498a2044b",
   "metadata": {},
   "outputs": [],
   "source": [
    "labels = [\"UL3M_healthy\", \"UL2M_healthy\", \"UL1M_healthy\", \"UL2BC_healthy\", \"UL1BC_healthy\", \"ULC_healthy\", \"ULLI_healthy\", \"ULCI_healthy\", \"UR3M_healthy\", \"UR2M_healthy\", \"UR1M_healthy\", \"UR2BC_healthy\", \"UR1BC_healthy\", \"URC_healthy\", \"URLI_healthy\", \"URCI_healthy\", \"LL3M_healthy\", \"LL2M_healthy\", \"LL1M_healthy\", \"LL2BC_healthy\", \"LL1BC_healthy\", \"LLC_healthy\", \"LLLI_healthy\", \"LLCI_healthy\", \"LR3M_healthy\", \"LR2M_healthy\", \"LR1M_healthy\", \"LR2BC_healthy\", \"LR1BC_healthy\", \"LRC_healthy\", \"LRLI_healthy\", \"LRCI_healthy\", \"UL3M_sdecay\", \"UL2M_sdecay\", \"UL1M_sdecay\", \"UL2BC_sdecay\", \"UL1BC_sdecay\", \"ULC_sdecay\", \"ULLI_sdecay\", \"ULCI_sdecay\", \"UR3M_sdecay\", \"UR2M_sdecay\", \"UR1M_sdecay\", \"UR2BC_sdecay\", \"UR1BC_sdecay\", \"URC_sdecay\", \"URLI_sdecay\", \"URCI_sdecay\", \"LL3M_sdecay\", \"LL2M_sdecay\", \"LL1M_sdecay\", \"LL2BC_sdecay\", \"LL1BC_sdecay\", \"LLC_sdecay\", \"LLLI_sdecay\", \"LLCI_sdecay\", \"LR3M_sdecay\", \"LR2M_sdecay\", \"LR1M_sdecay\", \"LR2BC_sdecay\", \"LR1BC_sdecay\", \"LRC_sdecay\", \"LRLI_sdecay\", \"LRCI_sdecay\", \"UL3M_mdecay\", \"UL2M_mdecay\", \"UL1M_mdecay\", \"UL2BC_mdecay\", \"UL1BC_mdecay\", \"ULC_mdecay\", \"ULLI_mdecay\", \"ULCI_mdecay\", \"UR3M_mdecay\", \"UR2M_mdecay\", \"UR1M_mdecay\", \"UR2BC_mdecay\", \"UR1BC_mdecay\", \"URC_mdecay\", \"URLI_mdecay\", \"URCI_mdecay\", \"LL3M_mdecay\", \"LL2M_mdecay\", \"LL1M_mdecay\", \"LL2BC_mdecay\", \"LL1BC_mdecay\", \"LLC_mdecay\", \"LLLI_mdecay\", \"LLCI_mdecay\", \"LR3M_mdecay\", \"LR2M_mdecay\", \"LR1M_mdecay\", \"LR2BC_mdecay\", \"LR1BC_mdecay\", \"LRC_mdecay\", \"LRLI_mdecay\", \"LRCI_mdecay\"]"
   ]
  },
  {
   "cell_type": "code",
<<<<<<< Updated upstream
<<<<<<< Updated upstream
   "execution_count": 13,
=======
   "execution_count": 3,
>>>>>>> Stashed changes
=======
   "execution_count": 4,
>>>>>>> Stashed changes
   "id": "7921d845-f88d-47c9-a7d3-ac2ff74eab45",
   "metadata": {},
   "outputs": [],
   "source": [
    "number_imgs = 5"
   ]
  },
  {
   "cell_type": "code",
<<<<<<< Updated upstream
<<<<<<< Updated upstream
<<<<<<< Updated upstream
   "execution_count": 6,
=======
   "execution_count": 14,
>>>>>>> Stashed changes
=======
   "execution_count": 4,
>>>>>>> Stashed changes
=======
   "execution_count": 5,
>>>>>>> Stashed changes
   "id": "1f06bafc-ac98-4484-b0b5-ce55ce96a102",
   "metadata": {},
   "outputs": [],
   "source": [
    "IMAGES_PATH = os.path.join('Tensorflow','workspace', 'images', 'collectedImages')"
   ]
  },
  {
   "cell_type": "code",
<<<<<<< Updated upstream
<<<<<<< Updated upstream
<<<<<<< Updated upstream
   "execution_count": 7,
=======
   "execution_count": 15,
>>>>>>> Stashed changes
=======
   "execution_count": 5,
>>>>>>> Stashed changes
=======
   "execution_count": 6,
>>>>>>> Stashed changes
   "id": "b33fe083-0d45-497e-ba53-5363e45198f7",
   "metadata": {},
   "outputs": [],
   "source": [
    "if not os.path.exists(IMAGES_PATH):\n",
    "    if os.name == 'posix':\n",
    "        !mkdir -p {IMAGES_PATH}\n",
    "    if os.name == 'nt':\n",
    "        !mkdir {IMAGES_PATH}\n",
    "for label in labels:\n",
    "    path = os.path.join(IMAGES_PATH, label)\n",
    "    if not os.path.exists(path):\n",
    "        !mkdir {path}"
   ]
  },
  {
   "cell_type": "code",
<<<<<<< Updated upstream
   "execution_count": 7,
=======
   "execution_count": null,
>>>>>>> Stashed changes
   "id": "a0711608-a29e-4188-8f7d-77f9ba131e3b",
   "metadata": {},
   "outputs": [
    {
     "name": "stdout",
     "output_type": "stream",
     "text": [
      "Collecting image for UL3M_healthy\n",
      "Collecting image 0\n",
      "Collecting image 1\n",
<<<<<<< Updated upstream
      "Collecting image 2\n",
      "Collecting image 3\n",
      "Collecting image 4\n",
      "Collecting image for UL2M_healthy\n",
      "Collecting image 0\n"
     ]
    },
    {
     "ename": "KeyboardInterrupt",
     "evalue": "",
     "output_type": "error",
     "traceback": [
      "\u001b[1;31m---------------------------------------------------------------------------\u001b[0m",
      "\u001b[1;31mKeyboardInterrupt\u001b[0m                         Traceback (most recent call last)",
      "Cell \u001b[1;32mIn[7], line 11\u001b[0m\n\u001b[0;32m      9\u001b[0m cv2\u001b[38;5;241m.\u001b[39mimwrite(imgname, frame)\n\u001b[0;32m     10\u001b[0m cv2\u001b[38;5;241m.\u001b[39mimshow(\u001b[38;5;124m'\u001b[39m\u001b[38;5;124mframe\u001b[39m\u001b[38;5;124m'\u001b[39m, frame)\n\u001b[1;32m---> 11\u001b[0m time\u001b[38;5;241m.\u001b[39msleep(\u001b[38;5;241m2\u001b[39m)\n\u001b[0;32m     12\u001b[0m \u001b[38;5;28;01mif\u001b[39;00m cv2\u001b[38;5;241m.\u001b[39mwaitKey(\u001b[38;5;241m1\u001b[39m) \u001b[38;5;241m&\u001b[39m \u001b[38;5;241m0xFF\u001b[39m \u001b[38;5;241m==\u001b[39m \u001b[38;5;28mord\u001b[39m(\u001b[38;5;124m'\u001b[39m\u001b[38;5;124mq\u001b[39m\u001b[38;5;124m'\u001b[39m):\n\u001b[0;32m     13\u001b[0m     \u001b[38;5;28;01mbreak\u001b[39;00m\n",
      "\u001b[1;31mKeyboardInterrupt\u001b[0m: "
     ]
=======
      "Collecting image 2\n"
     ]
>>>>>>> Stashed changes
    }
   ],
   "source": [
    "for label in labels:\n",
    "    cap = cv2.VideoCapture(0)\n",
    "    print(\"Collecting image for {}\".format(label))\n",
    "    time.sleep(5)\n",
    "    for imgnum in range(number_imgs):\n",
    "        print(\"Collecting image {}\".format(imgnum))\n",
    "        ret, frame = cap.read()\n",
    "        imgname = os.path.join(IMAGES_PATH,label, label+'.'+'{}.jpg'.format(str(uuid.uuid1())))\n",
    "        cv2.imwrite(imgname, frame)\n",
    "        cv2.imshow('frame', frame)\n",
    "        time.sleep(2)\n",
    "        if cv2.waitKey(1) & 0xFF == ord('q'):\n",
    "            break\n",
    "cap.release()\n",
    "cap.destroyAllWindows()\n"
   ]
  },
  {
   "cell_type": "code",
<<<<<<< Updated upstream
<<<<<<< Updated upstream
<<<<<<< Updated upstream
   "execution_count": 9,
=======
   "execution_count": 16,
>>>>>>> Stashed changes
=======
   "execution_count": 7,
>>>>>>> Stashed changes
=======
   "execution_count": 7,
>>>>>>> Stashed changes
   "id": "c2d6b859-acd0-4d84-9570-70b41ecc6241",
   "metadata": {},
   "outputs": [
    {
     "name": "stdout",
     "output_type": "stream",
     "text": [
<<<<<<< Updated upstream
<<<<<<< Updated upstream
<<<<<<< Updated upstream
      "Requirement already satisfied: pyqt5 in c:\\users\\ranie\\appdata\\local\\programs\\python\\python313\\lib\\site-packages (5.15.11)\n",
      "Requirement already satisfied: lxml in c:\\users\\ranie\\appdata\\local\\programs\\python\\python313\\lib\\site-packages (5.3.0)\n",
      "Requirement already satisfied: PyQt5-sip<13,>=12.15 in c:\\users\\ranie\\appdata\\local\\programs\\python\\python313\\lib\\site-packages (from pyqt5) (12.16.1)\n",
      "Requirement already satisfied: PyQt5-Qt5<5.16.0,>=5.15.2 in c:\\users\\ranie\\appdata\\local\\programs\\python\\python313\\lib\\site-packages (from pyqt5) (5.15.2)\n"
     ]
    },
    {
     "name": "stderr",
     "output_type": "stream",
     "text": [
      "\n",
      "[notice] A new release of pip is available: 25.0 -> 25.0.1\n",
      "[notice] To update, run: python.exe -m pip install --upgrade pip\n"
=======
      "Requirement already satisfied: pyqt5 in c:\\users\\dan\\anaconda3\\lib\\site-packages (5.15.11)\n",
      "Requirement already satisfied: lxml in c:\\users\\dan\\anaconda3\\lib\\site-packages (5.3.1)\n",
      "Requirement already satisfied: PyQt5-sip<13,>=12.15 in c:\\users\\dan\\anaconda3\\lib\\site-packages (from pyqt5) (12.16.1)\n",
      "Requirement already satisfied: PyQt5-Qt5<5.16.0,>=5.15.2 in c:\\users\\dan\\anaconda3\\lib\\site-packages (from pyqt5) (5.15.2)\n"
>>>>>>> Stashed changes
=======
      "Collecting pyqt5\n",
      "  Downloading PyQt5-5.15.11-cp38-abi3-win_amd64.whl.metadata (2.1 kB)\n",
      "Collecting lxml\n",
      "  Downloading lxml-5.3.0-cp313-cp313-win_amd64.whl.metadata (3.9 kB)\n",
      "Collecting PyQt5-sip<13,>=12.15 (from pyqt5)\n",
      "  Downloading PyQt5_sip-12.16.1-cp313-cp313-win_amd64.whl.metadata (439 bytes)\n",
      "Collecting PyQt5-Qt5<5.16.0,>=5.15.2 (from pyqt5)\n",
      "  Downloading PyQt5_Qt5-5.15.2-py3-none-win_amd64.whl.metadata (552 bytes)\n",
      "Downloading PyQt5-5.15.11-cp38-abi3-win_amd64.whl (6.9 MB)\n",
      "   ---------------------------------------- 0.0/6.9 MB ? eta -:--:--\n",
      "   ---- ----------------------------------- 0.8/6.9 MB 5.4 MB/s eta 0:00:02\n",
      "   ---- ----------------------------------- 0.8/6.9 MB 5.4 MB/s eta 0:00:02\n",
      "   ---- ----------------------------------- 0.8/6.9 MB 5.4 MB/s eta 0:00:02\n",
      "   ---- ----------------------------------- 0.8/6.9 MB 5.4 MB/s eta 0:00:02\n",
      "   ---------- ----------------------------- 1.8/6.9 MB 1.7 MB/s eta 0:00:04\n",
      "   ---------------- ----------------------- 2.9/6.9 MB 2.3 MB/s eta 0:00:02\n",
      "   --------------------- ------------------ 3.7/6.9 MB 2.5 MB/s eta 0:00:02\n",
      "   ------------------------- -------------- 4.5/6.9 MB 2.6 MB/s eta 0:00:01\n",
      "   ----------------------------------- ---- 6.0/6.9 MB 3.2 MB/s eta 0:00:01\n",
      "   ----------------------------------- ---- 6.0/6.9 MB 3.2 MB/s eta 0:00:01\n",
      "   ---------------------------------------- 6.9/6.9 MB 3.0 MB/s eta 0:00:00\n",
      "Downloading lxml-5.3.0-cp313-cp313-win_amd64.whl (3.8 MB)\n",
      "   ---------------------------------------- 0.0/3.8 MB ? eta -:--:--\n",
      "   ---------- ----------------------------- 1.0/3.8 MB 6.0 MB/s eta 0:00:01\n",
      "   ------------- -------------------------- 1.3/3.8 MB 5.9 MB/s eta 0:00:01\n",
      "   ------------- -------------------------- 1.3/3.8 MB 5.9 MB/s eta 0:00:01\n",
      "   ---------------- ----------------------- 1.6/3.8 MB 1.9 MB/s eta 0:00:02\n",
      "   ------------------------------ --------- 2.9/3.8 MB 2.8 MB/s eta 0:00:01\n",
      "   ------------------------------ --------- 2.9/3.8 MB 2.8 MB/s eta 0:00:01\n",
      "   -------------------------------- ------- 3.1/3.8 MB 2.2 MB/s eta 0:00:01\n",
      "   ---------------------------------------- 3.8/3.8 MB 2.4 MB/s eta 0:00:00\n",
      "Downloading PyQt5_Qt5-5.15.2-py3-none-win_amd64.whl (50.1 MB)\n",
      "   ---------------------------------------- 0.0/50.1 MB ? eta -:--:--\n",
      "   ---------------------------------------- 0.3/50.1 MB ? eta -:--:--\n",
      "   ---------------------------------------- 0.3/50.1 MB ? eta -:--:--\n",
      "   ---------------------------------------- 0.3/50.1 MB ? eta -:--:--\n",
      "   ---------------------------------------- 0.3/50.1 MB ? eta -:--:--\n",
      "   ---------------------------------------- 0.3/50.1 MB ? eta -:--:--\n",
      "   ---------------------------------------- 0.3/50.1 MB ? eta -:--:--\n",
      "    --------------------------------------- 0.8/50.1 MB 404.6 kB/s eta 0:02:02\n",
      "   - -------------------------------------- 1.3/50.1 MB 668.6 kB/s eta 0:01:13\n",
      "   - -------------------------------------- 2.1/50.1 MB 1.1 MB/s eta 0:00:45\n",
      "   - -------------------------------------- 2.1/50.1 MB 1.1 MB/s eta 0:00:45\n",
      "   -- ------------------------------------- 2.9/50.1 MB 1.2 MB/s eta 0:00:39\n",
      "   -- ------------------------------------- 2.9/50.1 MB 1.2 MB/s eta 0:00:39\n",
      "   -- ------------------------------------- 2.9/50.1 MB 1.2 MB/s eta 0:00:39\n",
      "   -- ------------------------------------- 2.9/50.1 MB 1.2 MB/s eta 0:00:39\n",
      "   -- ------------------------------------- 2.9/50.1 MB 1.2 MB/s eta 0:00:39\n",
      "   -- ------------------------------------- 2.9/50.1 MB 1.2 MB/s eta 0:00:39\n",
      "   -- ------------------------------------- 2.9/50.1 MB 1.2 MB/s eta 0:00:39\n",
      "   -- ------------------------------------- 2.9/50.1 MB 1.2 MB/s eta 0:00:39\n",
      "   -- ------------------------------------- 2.9/50.1 MB 1.2 MB/s eta 0:00:39\n",
      "   -- ------------------------------------- 2.9/50.1 MB 1.2 MB/s eta 0:00:39\n",
      "   -- ------------------------------------- 2.9/50.1 MB 1.2 MB/s eta 0:00:39\n",
      "   -- ------------------------------------- 2.9/50.1 MB 1.2 MB/s eta 0:00:39\n",
      "   -- ------------------------------------- 3.1/50.1 MB 633.9 kB/s eta 0:01:15\n",
      "   --- ------------------------------------ 3.9/50.1 MB 756.9 kB/s eta 0:01:01\n",
      "   --- ------------------------------------ 4.5/50.1 MB 846.6 kB/s eta 0:00:54\n",
      "   --- ------------------------------------ 4.5/50.1 MB 846.6 kB/s eta 0:00:54\n",
      "   --- ------------------------------------ 4.5/50.1 MB 846.6 kB/s eta 0:00:54\n",
      "   --- ------------------------------------ 4.5/50.1 MB 846.6 kB/s eta 0:00:54\n",
      "   --- ------------------------------------ 4.5/50.1 MB 846.6 kB/s eta 0:00:54\n",
      "   --- ------------------------------------ 4.5/50.1 MB 846.6 kB/s eta 0:00:54\n",
      "   --- ------------------------------------ 4.5/50.1 MB 846.6 kB/s eta 0:00:54\n",
      "   --- ------------------------------------ 4.5/50.1 MB 846.6 kB/s eta 0:00:54\n",
      "   --- ------------------------------------ 4.7/50.1 MB 663.3 kB/s eta 0:01:09\n",
      "   ---- ----------------------------------- 5.5/50.1 MB 754.6 kB/s eta 0:01:00\n",
      "   ---- ----------------------------------- 5.8/50.1 MB 788.4 kB/s eta 0:00:57\n",
      "   ---- ----------------------------------- 5.8/50.1 MB 788.4 kB/s eta 0:00:57\n",
      "   ---- ----------------------------------- 5.8/50.1 MB 788.4 kB/s eta 0:00:57\n",
      "   ---- ----------------------------------- 5.8/50.1 MB 788.4 kB/s eta 0:00:57\n",
      "   ---- ----------------------------------- 5.8/50.1 MB 788.4 kB/s eta 0:00:57\n",
      "   ---- ----------------------------------- 5.8/50.1 MB 788.4 kB/s eta 0:00:57\n",
      "   ----- ---------------------------------- 6.3/50.1 MB 720.3 kB/s eta 0:01:01\n",
      "   ----- ---------------------------------- 7.1/50.1 MB 794.6 kB/s eta 0:00:55\n",
      "   ------ --------------------------------- 7.6/50.1 MB 843.6 kB/s eta 0:00:51\n",
      "   ------ --------------------------------- 7.6/50.1 MB 843.6 kB/s eta 0:00:51\n",
      "   ------ --------------------------------- 7.6/50.1 MB 843.6 kB/s eta 0:00:51\n",
      "   ------ --------------------------------- 7.6/50.1 MB 843.6 kB/s eta 0:00:51\n",
      "   ------ --------------------------------- 7.6/50.1 MB 843.6 kB/s eta 0:00:51\n",
      "   ------ --------------------------------- 7.6/50.1 MB 843.6 kB/s eta 0:00:51\n",
      "   ------ --------------------------------- 7.6/50.1 MB 843.6 kB/s eta 0:00:51\n",
      "   ------ --------------------------------- 7.6/50.1 MB 843.6 kB/s eta 0:00:51\n",
      "   ------ --------------------------------- 7.6/50.1 MB 843.6 kB/s eta 0:00:51\n",
      "   ------ --------------------------------- 7.6/50.1 MB 843.6 kB/s eta 0:00:51\n",
      "   ------ --------------------------------- 7.6/50.1 MB 843.6 kB/s eta 0:00:51\n",
      "   ------ --------------------------------- 7.6/50.1 MB 843.6 kB/s eta 0:00:51\n",
      "   ------ --------------------------------- 7.6/50.1 MB 843.6 kB/s eta 0:00:51\n",
      "   ------ --------------------------------- 7.6/50.1 MB 843.6 kB/s eta 0:00:51\n",
      "   ------ --------------------------------- 7.6/50.1 MB 843.6 kB/s eta 0:00:51\n",
      "   ------ --------------------------------- 7.6/50.1 MB 843.6 kB/s eta 0:00:51\n",
      "   ------ --------------------------------- 7.6/50.1 MB 843.6 kB/s eta 0:00:51\n",
      "   ------ --------------------------------- 7.6/50.1 MB 843.6 kB/s eta 0:00:51\n",
      "   ------ --------------------------------- 7.6/50.1 MB 843.6 kB/s eta 0:00:51\n",
      "   ------ --------------------------------- 7.6/50.1 MB 843.6 kB/s eta 0:00:51\n",
      "   ------ --------------------------------- 7.6/50.1 MB 843.6 kB/s eta 0:00:51\n",
      "   ------ --------------------------------- 7.6/50.1 MB 843.6 kB/s eta 0:00:51\n",
      "   ------ --------------------------------- 7.6/50.1 MB 843.6 kB/s eta 0:00:51\n",
      "   ------ --------------------------------- 7.6/50.1 MB 843.6 kB/s eta 0:00:51\n",
      "   ------ --------------------------------- 7.6/50.1 MB 843.6 kB/s eta 0:00:51\n",
      "   ------ --------------------------------- 7.6/50.1 MB 843.6 kB/s eta 0:00:51\n",
      "   ------ --------------------------------- 7.6/50.1 MB 843.6 kB/s eta 0:00:51\n",
      "   ------ --------------------------------- 7.6/50.1 MB 843.6 kB/s eta 0:00:51\n",
      "   ------ --------------------------------- 7.6/50.1 MB 843.6 kB/s eta 0:00:51\n",
      "   ------ --------------------------------- 7.6/50.1 MB 843.6 kB/s eta 0:00:51\n",
      "   ------ --------------------------------- 7.6/50.1 MB 843.6 kB/s eta 0:00:51\n",
      "   ------ --------------------------------- 7.6/50.1 MB 843.6 kB/s eta 0:00:51\n",
      "   ------ --------------------------------- 7.6/50.1 MB 843.6 kB/s eta 0:00:51\n",
      "   ------ --------------------------------- 7.6/50.1 MB 843.6 kB/s eta 0:00:51\n",
      "   ------ --------------------------------- 7.6/50.1 MB 843.6 kB/s eta 0:00:51\n",
      "   ------ --------------------------------- 7.6/50.1 MB 843.6 kB/s eta 0:00:51\n",
      "   ------ --------------------------------- 7.6/50.1 MB 843.6 kB/s eta 0:00:51\n",
      "   ------ --------------------------------- 7.6/50.1 MB 843.6 kB/s eta 0:00:51\n",
      "   ------ --------------------------------- 8.1/50.1 MB 469.6 kB/s eta 0:01:30\n",
      "   ------ --------------------------------- 8.1/50.1 MB 469.6 kB/s eta 0:01:30\n",
      "   ------ --------------------------------- 8.4/50.1 MB 472.3 kB/s eta 0:01:29\n",
      "   ------ --------------------------------- 8.7/50.1 MB 486.6 kB/s eta 0:01:26\n",
      "   ------ --------------------------------- 8.7/50.1 MB 486.6 kB/s eta 0:01:26\n",
      "   ------- -------------------------------- 9.4/50.1 MB 514.3 kB/s eta 0:01:20\n",
      "   -------- ------------------------------- 10.5/50.1 MB 566.7 kB/s eta 0:01:10\n",
      "   -------- ------------------------------- 10.7/50.1 MB 580.0 kB/s eta 0:01:08\n",
      "   -------- ------------------------------- 10.7/50.1 MB 580.0 kB/s eta 0:01:08\n",
      "   -------- ------------------------------- 10.7/50.1 MB 580.0 kB/s eta 0:01:08\n",
      "   -------- ------------------------------- 10.7/50.1 MB 580.0 kB/s eta 0:01:08\n",
      "   -------- ------------------------------- 10.7/50.1 MB 580.0 kB/s eta 0:01:08\n",
      "   --------- ------------------------------ 11.3/50.1 MB 568.9 kB/s eta 0:01:09\n",
      "   --------- ------------------------------ 12.3/50.1 MB 612.8 kB/s eta 0:01:02\n",
      "   --------- ------------------------------ 12.3/50.1 MB 612.8 kB/s eta 0:01:02\n",
      "   ---------- ----------------------------- 12.6/50.1 MB 613.2 kB/s eta 0:01:02\n",
      "   ---------- ----------------------------- 13.4/50.1 MB 645.9 kB/s eta 0:00:57\n",
      "   ---------- ----------------------------- 13.6/50.1 MB 656.2 kB/s eta 0:00:56\n",
      "   ---------- ----------------------------- 13.6/50.1 MB 656.2 kB/s eta 0:00:56\n",
      "   ---------- ----------------------------- 13.6/50.1 MB 656.2 kB/s eta 0:00:56\n",
      "   ---------- ----------------------------- 13.6/50.1 MB 656.2 kB/s eta 0:00:56\n",
      "   ---------- ----------------------------- 13.6/50.1 MB 656.2 kB/s eta 0:00:56\n",
      "   ---------- ----------------------------- 13.6/50.1 MB 656.2 kB/s eta 0:00:56\n",
      "   ---------- ----------------------------- 13.6/50.1 MB 656.2 kB/s eta 0:00:56\n",
      "   ---------- ----------------------------- 13.6/50.1 MB 656.2 kB/s eta 0:00:56\n",
      "   ---------- ----------------------------- 13.6/50.1 MB 656.2 kB/s eta 0:00:56\n",
      "   ---------- ----------------------------- 13.6/50.1 MB 656.2 kB/s eta 0:00:56\n",
      "   ---------- ----------------------------- 13.6/50.1 MB 656.2 kB/s eta 0:00:56\n",
      "   ---------- ----------------------------- 13.6/50.1 MB 656.2 kB/s eta 0:00:56\n",
      "   ---------- ----------------------------- 13.6/50.1 MB 656.2 kB/s eta 0:00:56\n",
      "   ---------- ----------------------------- 13.6/50.1 MB 656.2 kB/s eta 0:00:56\n",
      "   ---------- ----------------------------- 13.6/50.1 MB 656.2 kB/s eta 0:00:56\n",
      "   ---------- ----------------------------- 13.6/50.1 MB 656.2 kB/s eta 0:00:56\n",
      "   ---------- ----------------------------- 13.6/50.1 MB 656.2 kB/s eta 0:00:56\n",
      "   ---------- ----------------------------- 13.6/50.1 MB 656.2 kB/s eta 0:00:56\n",
      "   ----------- ---------------------------- 14.2/50.1 MB 565.3 kB/s eta 0:01:04\n",
      "   ----------- ---------------------------- 14.2/50.1 MB 565.3 kB/s eta 0:01:04\n",
      "   ----------- ---------------------------- 14.2/50.1 MB 565.3 kB/s eta 0:01:04\n",
      "   ----------- ---------------------------- 14.4/50.1 MB 562.8 kB/s eta 0:01:04\n",
      "   ------------ --------------------------- 15.2/50.1 MB 586.2 kB/s eta 0:01:00\n",
      "   ------------ --------------------------- 15.7/50.1 MB 601.4 kB/s eta 0:00:58\n",
      "   ------------- -------------------------- 16.5/50.1 MB 628.9 kB/s eta 0:00:54\n",
      "   ------------- -------------------------- 16.5/50.1 MB 628.9 kB/s eta 0:00:54\n",
      "   ------------- -------------------------- 17.3/50.1 MB 647.1 kB/s eta 0:00:51\n",
      "   -------------- ------------------------- 17.6/50.1 MB 655.8 kB/s eta 0:00:50\n",
      "   --------------- ------------------------ 18.9/50.1 MB 694.6 kB/s eta 0:00:45\n",
      "   --------------- ------------------------ 19.4/50.1 MB 708.0 kB/s eta 0:00:44\n",
      "   ---------------- ----------------------- 20.7/50.1 MB 749.8 kB/s eta 0:00:40\n",
      "   ---------------- ----------------------- 20.7/50.1 MB 749.8 kB/s eta 0:00:40\n",
      "   ---------------- ----------------------- 20.7/50.1 MB 749.8 kB/s eta 0:00:40\n",
      "   ---------------- ----------------------- 21.2/50.1 MB 750.4 kB/s eta 0:00:39\n",
      "   ----------------- ---------------------- 21.8/50.1 MB 765.5 kB/s eta 0:00:37\n",
      "   ------------------ --------------------- 22.5/50.1 MB 784.2 kB/s eta 0:00:36\n",
      "   ------------------ --------------------- 23.6/50.1 MB 815.3 kB/s eta 0:00:33\n",
      "   ------------------- -------------------- 24.6/50.1 MB 846.6 kB/s eta 0:00:31\n",
      "   ------------------- -------------------- 24.6/50.1 MB 846.6 kB/s eta 0:00:31\n",
      "   ------------------- -------------------- 24.9/50.1 MB 841.7 kB/s eta 0:00:30\n",
      "   -------------------- ------------------- 25.7/50.1 MB 864.1 kB/s eta 0:00:29\n",
      "   -------------------- ------------------- 26.0/50.1 MB 865.1 kB/s eta 0:00:28\n",
      "   --------------------- ------------------ 26.7/50.1 MB 887.2 kB/s eta 0:00:27\n",
      "   --------------------- ------------------ 26.7/50.1 MB 887.2 kB/s eta 0:00:27\n",
      "   --------------------- ------------------ 26.7/50.1 MB 887.2 kB/s eta 0:00:27\n",
      "   --------------------- ------------------ 27.3/50.1 MB 913.4 kB/s eta 0:00:25\n",
      "   --------------------- ------------------ 27.5/50.1 MB 918.7 kB/s eta 0:00:25\n",
      "   --------------------- ------------------ 27.5/50.1 MB 918.7 kB/s eta 0:00:25\n",
      "   --------------------- ------------------ 27.5/50.1 MB 918.7 kB/s eta 0:00:25\n",
      "   --------------------- ------------------ 27.5/50.1 MB 918.7 kB/s eta 0:00:25\n",
      "   ---------------------- ----------------- 27.8/50.1 MB 874.9 kB/s eta 0:00:26\n",
      "   ---------------------- ----------------- 28.3/50.1 MB 873.7 kB/s eta 0:00:25\n",
      "   ---------------------- ----------------- 28.6/50.1 MB 879.3 kB/s eta 0:00:25\n",
      "   ---------------------- ----------------- 28.6/50.1 MB 879.3 kB/s eta 0:00:25\n",
      "   ----------------------- ---------------- 29.9/50.1 MB 959.7 kB/s eta 0:00:22\n",
      "   ------------------------ --------------- 30.7/50.1 MB 981.1 kB/s eta 0:00:20\n",
      "   ------------------------- -------------- 31.7/50.1 MB 1.0 MB/s eta 0:00:19\n",
      "   ------------------------- -------------- 32.2/50.1 MB 1.0 MB/s eta 0:00:18\n",
      "   -------------------------- ------------- 33.3/50.1 MB 1.1 MB/s eta 0:00:16\n",
      "   --------------------------- ------------ 34.6/50.1 MB 1.1 MB/s eta 0:00:15\n",
      "   ---------------------------- ----------- 35.4/50.1 MB 1.1 MB/s eta 0:00:14\n",
      "   ---------------------------- ----------- 35.7/50.1 MB 1.1 MB/s eta 0:00:13\n",
      "   ---------------------------- ----------- 35.7/50.1 MB 1.1 MB/s eta 0:00:13\n",
      "   ---------------------------- ----------- 35.7/50.1 MB 1.1 MB/s eta 0:00:13\n",
      "   ---------------------------- ----------- 35.7/50.1 MB 1.1 MB/s eta 0:00:13\n",
      "   ---------------------------- ----------- 35.9/50.1 MB 1.1 MB/s eta 0:00:14\n",
      "   ---------------------------- ----------- 35.9/50.1 MB 1.1 MB/s eta 0:00:14\n",
      "   ---------------------------- ----------- 36.2/50.1 MB 1.1 MB/s eta 0:00:14\n",
      "   ---------------------------- ----------- 36.2/50.1 MB 1.1 MB/s eta 0:00:14\n",
      "   ---------------------------- ----------- 36.2/50.1 MB 1.1 MB/s eta 0:00:14\n",
      "   ---------------------------- ----------- 36.2/50.1 MB 1.1 MB/s eta 0:00:14\n",
      "   ---------------------------- ----------- 36.2/50.1 MB 1.1 MB/s eta 0:00:14\n",
      "   ---------------------------- ----------- 36.2/50.1 MB 1.1 MB/s eta 0:00:14\n",
      "   ---------------------------- ----------- 36.2/50.1 MB 1.1 MB/s eta 0:00:14\n",
      "   ---------------------------- ----------- 36.2/50.1 MB 1.1 MB/s eta 0:00:14\n",
      "   ---------------------------- ----------- 36.2/50.1 MB 1.1 MB/s eta 0:00:14\n",
      "   ---------------------------- ----------- 36.2/50.1 MB 1.1 MB/s eta 0:00:14\n",
      "   ----------------------------- ---------- 36.4/50.1 MB 1.1 MB/s eta 0:00:13\n",
      "   ----------------------------- ---------- 36.4/50.1 MB 1.1 MB/s eta 0:00:13\n",
      "   ----------------------------- ---------- 36.4/50.1 MB 1.1 MB/s eta 0:00:13\n",
      "   ----------------------------- ---------- 36.4/50.1 MB 1.1 MB/s eta 0:00:13\n",
      "   ----------------------------- ---------- 36.4/50.1 MB 1.1 MB/s eta 0:00:13\n",
      "   ----------------------------- ---------- 36.4/50.1 MB 1.1 MB/s eta 0:00:13\n",
      "   ----------------------------- ---------- 36.4/50.1 MB 1.1 MB/s eta 0:00:13\n",
      "   ----------------------------- ---------- 36.4/50.1 MB 1.1 MB/s eta 0:00:13\n",
      "   ----------------------------- ---------- 36.4/50.1 MB 1.1 MB/s eta 0:00:13\n",
      "   ----------------------------- ---------- 36.4/50.1 MB 1.1 MB/s eta 0:00:13\n",
      "   ----------------------------- ---------- 36.4/50.1 MB 1.1 MB/s eta 0:00:13\n",
      "   ----------------------------- ---------- 37.0/50.1 MB 1.3 MB/s eta 0:00:11\n",
      "   ------------------------------ --------- 38.0/50.1 MB 1.3 MB/s eta 0:00:10\n",
      "   ------------------------------- -------- 39.1/50.1 MB 1.3 MB/s eta 0:00:09\n",
      "   -------------------------------- ------- 40.1/50.1 MB 1.4 MB/s eta 0:00:08\n",
      "   -------------------------------- ------- 41.2/50.1 MB 1.4 MB/s eta 0:00:07\n",
      "   --------------------------------- ------ 42.5/50.1 MB 1.5 MB/s eta 0:00:06\n",
      "   ---------------------------------- ----- 43.8/50.1 MB 1.5 MB/s eta 0:00:05\n",
      "   ----------------------------------- ---- 44.8/50.1 MB 1.5 MB/s eta 0:00:04\n",
      "   ------------------------------------ --- 45.9/50.1 MB 1.6 MB/s eta 0:00:03\n",
      "   ------------------------------------- -- 46.7/50.1 MB 1.6 MB/s eta 0:00:03\n",
      "   -------------------------------------- - 48.0/50.1 MB 1.6 MB/s eta 0:00:02\n",
      "   ---------------------------------------  49.0/50.1 MB 1.6 MB/s eta 0:00:01\n",
      "   ---------------------------------------  50.1/50.1 MB 1.7 MB/s eta 0:00:01\n",
      "   ---------------------------------------- 50.1/50.1 MB 1.7 MB/s eta 0:00:00\n",
      "Downloading PyQt5_sip-12.16.1-cp313-cp313-win_amd64.whl (57 kB)\n",
      "Installing collected packages: PyQt5-Qt5, PyQt5-sip, lxml, pyqt5\n",
      "Successfully installed PyQt5-Qt5-5.15.2 PyQt5-sip-12.16.1 lxml-5.3.0 pyqt5-5.15.11\n"
>>>>>>> Stashed changes
=======
      "Requirement already satisfied: pyqt5 in c:\\users\\admin\\anaconda4\\lib\\site-packages (5.15.11)\n",
      "Requirement already satisfied: lxml in c:\\users\\admin\\anaconda4\\lib\\site-packages (5.3.0)\n",
      "Collecting lxml\n",
      "  Downloading lxml-5.3.1-cp312-cp312-win_amd64.whl.metadata (3.8 kB)\n",
      "Requirement already satisfied: PyQt5-sip<13,>=12.15 in c:\\users\\admin\\anaconda4\\lib\\site-packages (from pyqt5) (12.17.0)\n",
      "Requirement already satisfied: PyQt5-Qt5<5.16.0,>=5.15.2 in c:\\users\\admin\\anaconda4\\lib\\site-packages (from pyqt5) (5.15.2)\n",
      "Downloading lxml-5.3.1-cp312-cp312-win_amd64.whl (3.8 MB)\n",
      "   ---------------------------------------- 0.0/3.8 MB ? eta -:--:--\n",
      "   -- ------------------------------------- 0.3/3.8 MB ? eta -:--:--\n",
      "   ----- ---------------------------------- 0.5/3.8 MB 985.5 kB/s eta 0:00:04\n",
      "   ----- ---------------------------------- 0.5/3.8 MB 985.5 kB/s eta 0:00:04\n",
      "   -------- ------------------------------- 0.8/3.8 MB 987.4 kB/s eta 0:00:04\n",
      "   ---------- ----------------------------- 1.0/3.8 MB 868.0 kB/s eta 0:00:04\n",
      "   ---------- ----------------------------- 1.0/3.8 MB 868.0 kB/s eta 0:00:04\n",
      "   ---------- ----------------------------- 1.0/3.8 MB 868.0 kB/s eta 0:00:04\n",
      "   ------------- -------------------------- 1.3/3.8 MB 721.7 kB/s eta 0:00:04\n",
      "   ------------- -------------------------- 1.3/3.8 MB 721.7 kB/s eta 0:00:04\n",
      "   ------------- -------------------------- 1.3/3.8 MB 721.7 kB/s eta 0:00:04\n",
      "   ------------- -------------------------- 1.3/3.8 MB 721.7 kB/s eta 0:00:04\n",
      "   ---------------- ----------------------- 1.6/3.8 MB 595.0 kB/s eta 0:00:04\n",
      "   ---------------- ----------------------- 1.6/3.8 MB 595.0 kB/s eta 0:00:04\n",
      "   ---------------- ----------------------- 1.6/3.8 MB 595.0 kB/s eta 0:00:04\n",
      "   ------------------- -------------------- 1.8/3.8 MB 547.1 kB/s eta 0:00:04\n",
      "   ------------------- -------------------- 1.8/3.8 MB 547.1 kB/s eta 0:00:04\n",
      "   ------------------- -------------------- 1.8/3.8 MB 547.1 kB/s eta 0:00:04\n",
      "   --------------------- ------------------ 2.1/3.8 MB 529.0 kB/s eta 0:00:04\n",
      "   --------------------- ------------------ 2.1/3.8 MB 529.0 kB/s eta 0:00:04\n",
      "   ------------------------ --------------- 2.4/3.8 MB 541.2 kB/s eta 0:00:03\n",
      "   ------------------------ --------------- 2.4/3.8 MB 541.2 kB/s eta 0:00:03\n",
      "   --------------------------- ------------ 2.6/3.8 MB 557.1 kB/s eta 0:00:03\n",
      "   --------------------------- ------------ 2.6/3.8 MB 557.1 kB/s eta 0:00:03\n",
      "   ------------------------------ --------- 2.9/3.8 MB 553.6 kB/s eta 0:00:02\n",
      "   ------------------------------ --------- 2.9/3.8 MB 553.6 kB/s eta 0:00:02\n",
      "   -------------------------------- ------- 3.1/3.8 MB 562.6 kB/s eta 0:00:02\n",
      "   ----------------------------------- ---- 3.4/3.8 MB 588.6 kB/s eta 0:00:01\n",
      "   -------------------------------------- - 3.7/3.8 MB 605.8 kB/s eta 0:00:01\n",
      "   -------------------------------------- - 3.7/3.8 MB 605.8 kB/s eta 0:00:01\n",
      "   ---------------------------------------- 3.8/3.8 MB 597.1 kB/s eta 0:00:00\n",
      "Installing collected packages: lxml\n",
      "  Attempting uninstall: lxml\n",
      "    Found existing installation: lxml 5.3.0\n",
      "    Uninstalling lxml-5.3.0:\n",
      "      Successfully uninstalled lxml-5.3.0\n",
      "Successfully installed lxml-5.3.1\n"
     ]
    },
    {
     "name": "stderr",
     "output_type": "stream",
     "text": [
      "  WARNING: Failed to remove contents in a temporary directory 'C:\\Users\\admin\\anaconda4\\Lib\\site-packages\\~-ml'.\n",
      "  You can safely remove it manually.\n"
>>>>>>> Stashed changes
     ]
    }
   ],
   "source": [
    "!pip install --upgrade pyqt5 lxml"
   ]
  },
  {
   "cell_type": "code",
<<<<<<< Updated upstream
<<<<<<< Updated upstream
<<<<<<< Updated upstream
   "execution_count": 15,
=======
   "execution_count": 17,
>>>>>>> Stashed changes
=======
   "execution_count": 6,
>>>>>>> Stashed changes
=======
   "execution_count": 8,
>>>>>>> Stashed changes
   "id": "cee7d547-627b-424f-9ce2-0f3b35478ea3",
   "metadata": {},
   "outputs": [],
   "source": [
    "LABELIMG_PATH = os.path.join('Tensorflow', 'labelimg')"
   ]
  },
  {
   "cell_type": "code",
<<<<<<< Updated upstream
<<<<<<< Updated upstream
<<<<<<< Updated upstream
   "execution_count": 16,
=======
   "execution_count": 18,
>>>>>>> Stashed changes
=======
   "execution_count": 7,
>>>>>>> Stashed changes
=======
   "execution_count": 9,
>>>>>>> Stashed changes
   "id": "64a91a37-32c3-4b01-81d3-3cb941db439a",
   "metadata": {},
   "outputs": [],
   "source": [
    "if not os.path.exists(LABELIMG_PATH):\n",
    "    !mkdir {LABELIMG_PATH}\n",
    "    !git clone https://github.com/HumanSignal/labelImg.git {LABELIMG_PATH}"
   ]
  },
  {
   "cell_type": "code",
<<<<<<< Updated upstream
<<<<<<< Updated upstream
<<<<<<< Updated upstream
   "execution_count": 17,
=======
   "execution_count": 19,
>>>>>>> Stashed changes
=======
   "execution_count": 8,
>>>>>>> Stashed changes
=======
   "execution_count": 10,
>>>>>>> Stashed changes
   "id": "ec0c38be-c55a-4b17-97e1-d51a040e81da",
   "metadata": {},
   "outputs": [],
   "source": [
    "if os.name == \"posix\":\n",
    "    !make qt5py3\n",
    "if os.name == \"nt\":\n",
    "    !cd {LABELIMG_PATH} && pyrcc5 -o libs/resources.py resources.qrc "
   ]
  },
  {
   "cell_type": "code",
   "execution_count": null,
   "id": "1133e951-ed8b-4436-a399-85fb71a5321e",
   "metadata": {},
   "outputs": [],
   "source": [
    "!cd {LABELIMG_PATH} && python labelImg.py"
   ]
  },
  {
   "cell_type": "code",
   "execution_count": null,
   "id": "20e3e106-601b-43dd-aab9-a34065987f7f",
   "metadata": {},
   "outputs": [],
   "source": []
  },
  {
   "cell_type": "code",
   "execution_count": null,
   "id": "8c0eb277-c01a-42ac-ba6f-0d74c7f3dd5a",
   "metadata": {},
   "outputs": [],
   "source": []
  },
  {
   "cell_type": "code",
   "execution_count": null,
   "id": "e1d46fbd-4ca5-4268-93a8-265f2f80315b",
   "metadata": {},
   "outputs": [],
   "source": []
  }
 ],
 "metadata": {
  "kernelspec": {
   "display_name": "dentalcariesod",
   "language": "python",
   "name": "dentalcariesod"
  },
  "language_info": {
   "codemirror_mode": {
    "name": "ipython",
    "version": 3
   },
   "file_extension": ".py",
   "mimetype": "text/x-python",
   "name": "python",
   "nbconvert_exporter": "python",
   "pygments_lexer": "ipython3",
<<<<<<< Updated upstream
<<<<<<< Updated upstream
   "version": "3.12.3"
=======
   "version": "3.13.1"
>>>>>>> Stashed changes
=======
   "version": "3.12.7"
>>>>>>> Stashed changes
  }
 },
 "nbformat": 4,
 "nbformat_minor": 5
}
